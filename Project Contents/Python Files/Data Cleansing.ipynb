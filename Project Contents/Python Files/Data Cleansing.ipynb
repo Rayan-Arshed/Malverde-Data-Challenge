{
 "cells": [
  {
   "cell_type": "markdown",
   "id": "df27dfa6-7e22-4ec0-8c73-938bc0cb2e3b",
   "metadata": {},
   "source": [
    "## Initialization"
   ]
  },
  {
   "cell_type": "code",
   "execution_count": 1,
   "id": "8a02a836-f01f-4d4d-9e0b-6cb68559fd71",
   "metadata": {},
   "outputs": [],
   "source": [
    "import pandas as pd"
   ]
  },
  {
   "cell_type": "code",
   "execution_count": 2,
   "id": "009b0a3b-aac0-42ad-843a-d4db1b884066",
   "metadata": {},
   "outputs": [],
   "source": [
    "# Import Data\n",
    "df = pd.read_csv('../Raw Data/ConList.csv')"
   ]
  },
  {
   "cell_type": "code",
   "execution_count": 3,
   "id": "35144fec-1e44-40f7-8bd9-1708900096c2",
   "metadata": {},
   "outputs": [
    {
     "data": {
      "text/html": [
       "<div>\n",
       "<style scoped>\n",
       "    .dataframe tbody tr th:only-of-type {\n",
       "        vertical-align: middle;\n",
       "    }\n",
       "\n",
       "    .dataframe tbody tr th {\n",
       "        vertical-align: top;\n",
       "    }\n",
       "\n",
       "    .dataframe thead th {\n",
       "        text-align: right;\n",
       "    }\n",
       "</style>\n",
       "<table border=\"1\" class=\"dataframe\">\n",
       "  <thead>\n",
       "    <tr style=\"text-align: right;\">\n",
       "      <th></th>\n",
       "      <th>Name 6</th>\n",
       "      <th>Name 1</th>\n",
       "      <th>Name 2</th>\n",
       "      <th>Name 3</th>\n",
       "      <th>Name 4</th>\n",
       "      <th>Name 5</th>\n",
       "      <th>Title</th>\n",
       "      <th>Name Non-Latin Script</th>\n",
       "      <th>Non-Latin Script Type</th>\n",
       "      <th>Non-Latin Script Language</th>\n",
       "      <th>...</th>\n",
       "      <th>Country</th>\n",
       "      <th>Other Information</th>\n",
       "      <th>Group Type</th>\n",
       "      <th>Alias Type</th>\n",
       "      <th>Alias Quality</th>\n",
       "      <th>Regime</th>\n",
       "      <th>Listed On</th>\n",
       "      <th>UK Sanctions List Date Designated</th>\n",
       "      <th>Last Updated</th>\n",
       "      <th>Group ID</th>\n",
       "    </tr>\n",
       "  </thead>\n",
       "  <tbody>\n",
       "    <tr>\n",
       "      <th>0</th>\n",
       "      <td>MITHOO</td>\n",
       "      <td>Mian</td>\n",
       "      <td>NaN</td>\n",
       "      <td>NaN</td>\n",
       "      <td>NaN</td>\n",
       "      <td>NaN</td>\n",
       "      <td>NaN</td>\n",
       "      <td>NaN</td>\n",
       "      <td>NaN</td>\n",
       "      <td>NaN</td>\n",
       "      <td>...</td>\n",
       "      <td>Pakistan</td>\n",
       "      <td>(UK Sanctions List Ref):GHR0086. (UK Statement...</td>\n",
       "      <td>Individual</td>\n",
       "      <td>Primary name variation</td>\n",
       "      <td>NaN</td>\n",
       "      <td>Global Human Rights</td>\n",
       "      <td>09/12/2022</td>\n",
       "      <td>09/12/2022</td>\n",
       "      <td>09/12/2022</td>\n",
       "      <td>15672</td>\n",
       "    </tr>\n",
       "    <tr>\n",
       "      <th>1</th>\n",
       "      <td>MITHU</td>\n",
       "      <td>Mian</td>\n",
       "      <td>NaN</td>\n",
       "      <td>NaN</td>\n",
       "      <td>NaN</td>\n",
       "      <td>NaN</td>\n",
       "      <td>NaN</td>\n",
       "      <td>NaN</td>\n",
       "      <td>NaN</td>\n",
       "      <td>NaN</td>\n",
       "      <td>...</td>\n",
       "      <td>Pakistan</td>\n",
       "      <td>(UK Sanctions List Ref):GHR0086. (UK Statement...</td>\n",
       "      <td>Individual</td>\n",
       "      <td>Primary name variation</td>\n",
       "      <td>NaN</td>\n",
       "      <td>Global Human Rights</td>\n",
       "      <td>09/12/2022</td>\n",
       "      <td>09/12/2022</td>\n",
       "      <td>09/12/2022</td>\n",
       "      <td>15672</td>\n",
       "    </tr>\n",
       "    <tr>\n",
       "      <th>2</th>\n",
       "      <td>MITTO</td>\n",
       "      <td>Mian</td>\n",
       "      <td>NaN</td>\n",
       "      <td>NaN</td>\n",
       "      <td>NaN</td>\n",
       "      <td>NaN</td>\n",
       "      <td>NaN</td>\n",
       "      <td>NaN</td>\n",
       "      <td>NaN</td>\n",
       "      <td>NaN</td>\n",
       "      <td>...</td>\n",
       "      <td>Pakistan</td>\n",
       "      <td>(UK Sanctions List Ref):GHR0086. (UK Statement...</td>\n",
       "      <td>Individual</td>\n",
       "      <td>Primary name variation</td>\n",
       "      <td>NaN</td>\n",
       "      <td>Global Human Rights</td>\n",
       "      <td>09/12/2022</td>\n",
       "      <td>09/12/2022</td>\n",
       "      <td>09/12/2022</td>\n",
       "      <td>15672</td>\n",
       "    </tr>\n",
       "    <tr>\n",
       "      <th>3</th>\n",
       "      <td>MITTU</td>\n",
       "      <td>Mian</td>\n",
       "      <td>NaN</td>\n",
       "      <td>NaN</td>\n",
       "      <td>NaN</td>\n",
       "      <td>NaN</td>\n",
       "      <td>NaN</td>\n",
       "      <td>NaN</td>\n",
       "      <td>NaN</td>\n",
       "      <td>NaN</td>\n",
       "      <td>...</td>\n",
       "      <td>Pakistan</td>\n",
       "      <td>(UK Sanctions List Ref):GHR0086. (UK Statement...</td>\n",
       "      <td>Individual</td>\n",
       "      <td>Primary name variation</td>\n",
       "      <td>NaN</td>\n",
       "      <td>Global Human Rights</td>\n",
       "      <td>09/12/2022</td>\n",
       "      <td>09/12/2022</td>\n",
       "      <td>09/12/2022</td>\n",
       "      <td>15672</td>\n",
       "    </tr>\n",
       "    <tr>\n",
       "      <th>4</th>\n",
       "      <td>ZADACHIN</td>\n",
       "      <td>Andrei</td>\n",
       "      <td>Andreevich</td>\n",
       "      <td>NaN</td>\n",
       "      <td>NaN</td>\n",
       "      <td>NaN</td>\n",
       "      <td>NaN</td>\n",
       "      <td>NaN</td>\n",
       "      <td>NaN</td>\n",
       "      <td>NaN</td>\n",
       "      <td>...</td>\n",
       "      <td>NaN</td>\n",
       "      <td>(UK Sanctions List Ref):RUS1831. Financial san...</td>\n",
       "      <td>Individual</td>\n",
       "      <td>Primary name variation</td>\n",
       "      <td>NaN</td>\n",
       "      <td>Russia</td>\n",
       "      <td>21/04/2023</td>\n",
       "      <td>21/04/2023</td>\n",
       "      <td>21/04/2023</td>\n",
       "      <td>15890</td>\n",
       "    </tr>\n",
       "  </tbody>\n",
       "</table>\n",
       "<p>5 rows × 36 columns</p>\n",
       "</div>"
      ],
      "text/plain": [
       "     Name 6  Name 1      Name 2 Name 3 Name 4 Name 5 Title  \\\n",
       "0    MITHOO    Mian         NaN    NaN    NaN    NaN   NaN   \n",
       "1     MITHU    Mian         NaN    NaN    NaN    NaN   NaN   \n",
       "2     MITTO    Mian         NaN    NaN    NaN    NaN   NaN   \n",
       "3     MITTU    Mian         NaN    NaN    NaN    NaN   NaN   \n",
       "4  ZADACHIN  Andrei  Andreevich    NaN    NaN    NaN   NaN   \n",
       "\n",
       "  Name Non-Latin Script Non-Latin Script Type Non-Latin Script Language  ...  \\\n",
       "0                   NaN                   NaN                       NaN  ...   \n",
       "1                   NaN                   NaN                       NaN  ...   \n",
       "2                   NaN                   NaN                       NaN  ...   \n",
       "3                   NaN                   NaN                       NaN  ...   \n",
       "4                   NaN                   NaN                       NaN  ...   \n",
       "\n",
       "    Country                                  Other Information  Group Type  \\\n",
       "0  Pakistan  (UK Sanctions List Ref):GHR0086. (UK Statement...  Individual   \n",
       "1  Pakistan  (UK Sanctions List Ref):GHR0086. (UK Statement...  Individual   \n",
       "2  Pakistan  (UK Sanctions List Ref):GHR0086. (UK Statement...  Individual   \n",
       "3  Pakistan  (UK Sanctions List Ref):GHR0086. (UK Statement...  Individual   \n",
       "4       NaN  (UK Sanctions List Ref):RUS1831. Financial san...  Individual   \n",
       "\n",
       "               Alias Type Alias Quality               Regime   Listed On  \\\n",
       "0  Primary name variation           NaN  Global Human Rights  09/12/2022   \n",
       "1  Primary name variation           NaN  Global Human Rights  09/12/2022   \n",
       "2  Primary name variation           NaN  Global Human Rights  09/12/2022   \n",
       "3  Primary name variation           NaN  Global Human Rights  09/12/2022   \n",
       "4  Primary name variation           NaN               Russia  21/04/2023   \n",
       "\n",
       "  UK Sanctions List Date Designated Last Updated Group ID  \n",
       "0                        09/12/2022   09/12/2022    15672  \n",
       "1                        09/12/2022   09/12/2022    15672  \n",
       "2                        09/12/2022   09/12/2022    15672  \n",
       "3                        09/12/2022   09/12/2022    15672  \n",
       "4                        21/04/2023   21/04/2023    15890  \n",
       "\n",
       "[5 rows x 36 columns]"
      ]
     },
     "execution_count": 3,
     "metadata": {},
     "output_type": "execute_result"
    }
   ],
   "source": [
    "# Quich check of data\n",
    "df.head()"
   ]
  },
  {
   "cell_type": "code",
   "execution_count": 4,
   "id": "b4f12738-92d2-4076-8aed-e2b549a4b34a",
   "metadata": {},
   "outputs": [
    {
     "data": {
      "text/plain": [
       "18796"
      ]
     },
     "execution_count": 4,
     "metadata": {},
     "output_type": "execute_result"
    }
   ],
   "source": [
    "df.shape[0]"
   ]
  },
  {
   "cell_type": "markdown",
   "id": "1ffeb518-4928-4ec8-8b18-78e14491b911",
   "metadata": {},
   "source": [
    "## Setting Up Column Lists"
   ]
  },
  {
   "cell_type": "code",
   "execution_count": 5,
   "id": "2f641d20-ee42-4b2f-a26c-f02cfc10d29f",
   "metadata": {},
   "outputs": [
    {
     "data": {
      "text/plain": [
       "Index(['Name 6', 'Name 1', 'Name 2', 'Name 3', 'Name 4', 'Name 5', 'Title',\n",
       "       'Name Non-Latin Script', 'Non-Latin Script Type',\n",
       "       'Non-Latin Script Language', 'DOB', 'Town of Birth', 'Country of Birth',\n",
       "       'Nationality', 'Passport Number', 'Passport Details',\n",
       "       'National Identification Number', 'National Identification Details',\n",
       "       'Position', 'Address 1', 'Address 2', 'Address 3', 'Address 4',\n",
       "       'Address 5', 'Address 6', 'Post/Zip Code', 'Country',\n",
       "       'Other Information', 'Group Type', 'Alias Type', 'Alias Quality',\n",
       "       'Regime', 'Listed On', 'UK Sanctions List Date Designated',\n",
       "       'Last Updated', 'Group ID'],\n",
       "      dtype='object')"
      ]
     },
     "execution_count": 5,
     "metadata": {},
     "output_type": "execute_result"
    }
   ],
   "source": [
    "# Get list of columns to help with next part\n",
    "df.columns"
   ]
  },
  {
   "cell_type": "code",
   "execution_count": 6,
   "id": "4bf17a6a-833f-4492-94ad-defa2aa79423",
   "metadata": {},
   "outputs": [],
   "source": [
    "# Defining columns to clean as we don't want to cleanse non-string columns\n",
    "columns_to_clean = ['Name 6', 'Name 1', 'Name 2', 'Name 3', 'Name 4', 'Name 5', 'Title',\n",
    "       'Name Non-Latin Script', 'Non-Latin Script Type',\n",
    "       'Non-Latin Script Language', 'Town of Birth', 'Country of Birth',\n",
    "       'Nationality', 'Passport Details','National Identification Details',\n",
    "       'Position', 'Address 1', 'Address 2', 'Address 3', 'Address 4',\n",
    "       'Address 5', 'Address 6', 'Post/Zip Code', 'Country',\n",
    "       'Other Information', 'Group Type', 'Alias Type', 'Alias Quality',\n",
    "       'Regime']"
   ]
  },
  {
   "cell_type": "code",
   "execution_count": 7,
   "id": "2cd90fff-0143-414b-b3ac-4ee96337a764",
   "metadata": {},
   "outputs": [],
   "source": [
    "# Defining columns to change date type to match SQL date types\n",
    "columns_to_convert = ['DOB', 'Listed On', 'UK Sanctions List Date Designated',\n",
    "       'Last Updated']"
   ]
  },
  {
   "cell_type": "markdown",
   "id": "1ccb38af-4cd4-4368-aeba-7e4a1a589872",
   "metadata": {},
   "source": [
    "## Handling UTF-8 Encoding"
   ]
  },
  {
   "cell_type": "code",
   "execution_count": 8,
   "id": "af557081-e7cf-4a47-bc97-237f85578a1d",
   "metadata": {},
   "outputs": [],
   "source": [
    "# Replacing special characters outside of UTF-8 standards\n",
    "for column in columns_to_clean:\n",
    "    #df[column] = df[column].str.replace(r'[^\\w\\s\\n\\u2028;,]', '', regex=True)\n",
    "    df[column] = df[column].str.replace(r'[^A-Za-z0-9\\s]+', '', regex=True)\n",
    "    # Attempted a general filtering to preserve special characters like non-latin languages, but this broke CSV imports later, down to 82 records\n",
    "    # Instead replacing all non-alphanumeric values\n",
    "    # Keeping the old regex here though so that it can be used for Python code if required"
   ]
  },
  {
   "cell_type": "markdown",
   "id": "cdfb94ee-c2c8-4d47-98f0-75d27dfc6f0e",
   "metadata": {},
   "source": [
    "## Handling SQL Date Types"
   ]
  },
  {
   "cell_type": "code",
   "execution_count": 9,
   "id": "10af6b71-b8d1-4994-a6b1-81d40bbd5354",
   "metadata": {},
   "outputs": [],
   "source": [
    "# Creating a function to handle invalid dates\n",
    "def convert_dates_to_sql(date_string):\n",
    "    try:\n",
    "        return pd.to_datetime(date_string, format='%d/%m/%Y').strftime('%Y-%m-%d')\n",
    "    except ValueError:\n",
    "        year = str(date_string).split('/')[-1]\n",
    "        return f'{year}-01-01' if year.isdigit() else 'NULL'"
   ]
  },
  {
   "cell_type": "code",
   "execution_count": 10,
   "id": "723b6111-38fe-4178-af0d-57465dfe3b29",
   "metadata": {},
   "outputs": [],
   "source": [
    "# Converting values in the date column to match SQL formatting\n",
    "for column in columns_to_convert:\n",
    "    df[column] = df[column].apply(convert_dates_to_sql)\n",
    "        "
   ]
  },
  {
   "cell_type": "markdown",
   "id": "e00ef866-3a94-463c-b9ee-cf9ac522e289",
   "metadata": {},
   "source": [
    "## Saving Cleansed File"
   ]
  },
  {
   "cell_type": "code",
   "execution_count": 11,
   "id": "ed489e92-24f5-4ec0-9573-20c98b98b3f1",
   "metadata": {},
   "outputs": [
    {
     "data": {
      "text/plain": [
       "18796"
      ]
     },
     "execution_count": 11,
     "metadata": {},
     "output_type": "execute_result"
    }
   ],
   "source": [
    "df.shape[0]"
   ]
  },
  {
   "cell_type": "code",
   "execution_count": 12,
   "id": "e5a843c4-38e5-48fe-906d-2f02fed11f52",
   "metadata": {},
   "outputs": [],
   "source": [
    "# Saving to cleansed folder\n",
    "df.to_csv('../Cleansed Data/CleanedConList.csv', index=False, encoding='utf-8')"
   ]
  },
  {
   "cell_type": "code",
   "execution_count": 13,
   "id": "95222810-0be7-4fd0-9cec-baab31e136c9",
   "metadata": {},
   "outputs": [],
   "source": [
    "#df[\"DOB\"].to_string()"
   ]
  }
 ],
 "metadata": {
  "kernelspec": {
   "display_name": "Python 3 (ipykernel)",
   "language": "python",
   "name": "python3"
  },
  "language_info": {
   "codemirror_mode": {
    "name": "ipython",
    "version": 3
   },
   "file_extension": ".py",
   "mimetype": "text/x-python",
   "name": "python",
   "nbconvert_exporter": "python",
   "pygments_lexer": "ipython3",
   "version": "3.12.7"
  }
 },
 "nbformat": 4,
 "nbformat_minor": 5
}
